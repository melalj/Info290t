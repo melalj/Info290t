{
 "metadata": {
  "name": "",
  "signature": "sha256:a6956547aa9eb914f6ebb76cee91a0215adada9d542c43e7639b7f3a721f0ebf"
 },
 "nbformat": 3,
 "nbformat_minor": 0,
 "worksheets": [
  {
   "cells": [
    {
     "cell_type": "heading",
     "level": 1,
     "metadata": {},
     "source": [
      "Lab 3"
     ]
    },
    {
     "cell_type": "code",
     "collapsed": false,
     "input": [
      "###############################################################################\n",
      "# Lab 3\n",
      "#\n",
      "# Authors: melalj, davidapei, henri.tilloy, william.nouet\n",
      "#\n",
      "#------------------------------------------------------------------------------\n",
      "# Update: NONE\n",
      "# version = \"0.1\"\n",
      "#------------------------------------------------------------------------------\n",
      "# Creation Date: February 5 2015\n",
      "#\n",
      "###############################################################################\n",
      "\n",
      "import sklearn\n",
      "from sklearn import metrics, cluster\n",
      "from sklearn.cluster import KMeans\n",
      "import numpy as np\n",
      "import matplotlib.pyplot as plt\n",
      "import collections\n",
      "from scipy.spatial import distance\n",
      "%matplotlib inline\n",
      "\n",
      "#-----------------------------------K-means-------------------------------------\n",
      "\n",
      "# Compute the k-means algorithm\n",
      "def kmeans(X, n_clusters):\n",
      "    k_means = KMeans(init='k-means++', n_clusters = n_clusters, n_init = 10)\n",
      "    k_means.fit(X)\n",
      "    k_means_labels = k_means.labels_\n",
      "    k_means_cluster_centers = k_means.cluster_centers_\n",
      "    k_means_labels_unique = np.unique(k_means_labels)\n",
      "\n",
      "    return k_means_labels, k_means_cluster_centers\n",
      "\n",
      "# Find the silhouette metric closer to 1 in order to give the optimal number of cluster\n",
      "def kmeans_silhouette(X):\n",
      "    silhouettes = []\n",
      "    # Running the K-means algorithm in order to find the best k\n",
      "    for k in range(2, 9, 1):\n",
      "        k_means_labels, k_means_cluster_centers = kmeans(X, k)\n",
      "        silhouette_coef =  sklearn.metrics.silhouette_score(X, k_means_labels, sample_size = 1000)\n",
      "        silhouettes.append(silhouette_coef)\n",
      "\n",
      "    best_silhouette = max(silhouettes)\n",
      "\n",
      "    for i in range(len(silhouettes)):\n",
      "        if silhouettes[i] == best_silhouette:\n",
      "            print 'Best silhouette score is: %f for k = %f' % (best_silhouette, i + 2)\n",
      "\n",
      "    return k_means_labels, k_means_cluster_centers\n",
      "\n",
      "#-----------------------------Question 2 to 4-----------------------------------\n",
      "\n",
      "def question(data, init):\n",
      "    # Looking for the lenght of the data without any blank on a feature\n",
      "    lenght_true_data = 0\n",
      "    for i in range(len(data)):\n",
      "        if (data[i][init] != '') & (data[i][init + 1] != '') & (data[i][init + 2] != ''):\n",
      "            lenght_true_data = lenght_true_data + 1\n",
      "\n",
      "    # Creating an array where will be stored the votes\n",
      "    X = np.zeros((lenght_true_data, 3))\n",
      "\n",
      "    # Putting data inside X\n",
      "    indice = 0\n",
      "    # We only take into the account the data different from blank\n",
      "    # Thus, we keep 10801 rows out of 44994\n",
      "    for i in range(len(data)):\n",
      "        if (data[i][init] != '') & (data[i][init + 1] != '') & (data[i][init + 2] != ''):\n",
      "            X[indice, 0] = float(data[i][init])\n",
      "            X[indice, 1] = float(data[i][init + 1])\n",
      "            X[indice, 2] = float(data[i][init + 2])\n",
      "            indice = indice + 1\n",
      "\n",
      "    k_means_labels, k_means_cluster_centers = kmeans_silhouette(X)\n",
      "\n",
      "    return k_means_labels, k_means_cluster_centers, X\n"
     ],
     "language": "python",
     "metadata": {},
     "outputs": [],
     "prompt_number": 2
    },
    {
     "cell_type": "heading",
     "level": 3,
     "metadata": {},
     "source": [
      "Loading file"
     ]
    },
    {
     "cell_type": "code",
     "collapsed": false,
     "input": [
      "file = open('data/yelp_reviewers.txt')\n",
      "content = file.readlines()\n",
      "\n",
      "data = []\n",
      "\n",
      "# Splitting the data\n",
      "for i in content:\n",
      "    split = i.split('|')\n",
      "    data.append(split)\n",
      "\n",
      "del data[0]"
     ],
     "language": "python",
     "metadata": {},
     "outputs": [],
     "prompt_number": 3
    },
    {
     "cell_type": "heading",
     "level": 1,
     "metadata": {},
     "source": [
      "Question 2"
     ]
    },
    {
     "cell_type": "code",
     "collapsed": false,
     "input": [
      "question(data, 2)"
     ],
     "language": "python",
     "metadata": {},
     "outputs": [
      {
       "output_type": "stream",
       "stream": "stdout",
       "text": [
        "Best silhouette score is: 0.990350 for k = 3.000000\n"
       ]
      },
      {
       "output_type": "stream",
       "stream": "stderr",
       "text": [
        "/usr/local/lib/python2.7/site-packages/numpy/core/_methods.py:59: RuntimeWarning: Mean of empty slice.\n",
        "  warnings.warn(\"Mean of empty slice.\", RuntimeWarning)\n",
        "/usr/local/lib/python2.7/site-packages/numpy/core/_methods.py:71: RuntimeWarning: invalid value encountered in double_scalars\n",
        "  ret = ret.dtype.type(ret / rcount)\n"
       ]
      },
      {
       "metadata": {},
       "output_type": "pyout",
       "prompt_number": 4,
       "text": [
        "(array([0, 2, 0, ..., 0, 0, 0], dtype=int32),\n",
        " array([[  1.25988124e+00,   9.96827124e-01,   2.88215030e+00],\n",
        "        [  1.79125000e+03,   1.39425000e+03,   2.19825000e+03],\n",
        "        [  2.34435714e+02,   1.93314286e+02,   3.14728571e+02],\n",
        "        [  4.40200000e+03,   5.51700000e+03,   4.34600000e+03],\n",
        "        [  5.79549020e+02,   4.98980392e+02,   6.84117647e+02],\n",
        "        [  3.87700000e+03,   2.12000000e+03,   4.62000000e+03],\n",
        "        [  6.16539634e+01,   4.59969512e+01,   9.19832317e+01],\n",
        "        [  1.07643750e+03,   8.69250000e+02,   1.31087500e+03]]),\n",
        " array([[   0.,    0.,    0.],\n",
        "        [ 275.,  193.,  382.],\n",
        "        [   0.,    0.,    0.],\n",
        "        ..., \n",
        "        [  11.,   17.,   38.],\n",
        "        [   1.,    0.,    4.],\n",
        "        [   1.,    1.,    2.]]))"
       ]
      }
     ],
     "prompt_number": 4
    },
    {
     "cell_type": "heading",
     "level": 1,
     "metadata": {},
     "source": [
      "Question 3"
     ]
    },
    {
     "cell_type": "code",
     "collapsed": false,
     "input": [
      "question(data, 6)"
     ],
     "language": "python",
     "metadata": {},
     "outputs": [
      {
       "output_type": "stream",
       "stream": "stdout",
       "text": [
        "Best silhouette score is: 0.544493 for k = 2.000000\n"
       ]
      },
      {
       "metadata": {},
       "output_type": "pyout",
       "prompt_number": 5,
       "text": [
        "(array([3, 6, 0, ..., 7, 5, 4], dtype=int32),\n",
        " array([[ 1.75077016,  1.5310432 ,  2.42065462],\n",
        "        [ 3.9555418 ,  3.6775417 ,  4.35793309],\n",
        "        [ 0.19400952,  0.14382692,  1.45827699],\n",
        "        [ 5.75870692,  5.56140298,  6.01636821],\n",
        "        [ 0.142159  ,  0.11387667,  0.31658771],\n",
        "        [ 2.72241256,  2.44188923,  3.29293793],\n",
        "        [ 0.73846347,  1.11870609,  1.38425241],\n",
        "        [ 1.25991071,  0.2976718 ,  2.00483257]]),\n",
        " array([[ 5.6167711 ,  5.26269019,  5.94542061],\n",
        "        [ 0.69314718,  0.69314718,  0.69314718],\n",
        "        [ 2.19722458,  1.09861229,  2.83321334],\n",
        "        ..., \n",
        "        [ 2.07944154,  0.69314718,  1.60943791],\n",
        "        [ 2.39789527,  2.83321334,  3.63758616],\n",
        "        [ 0.        ,  0.        ,  0.69314718]]))"
       ]
      }
     ],
     "prompt_number": 5
    },
    {
     "cell_type": "heading",
     "level": 1,
     "metadata": {},
     "source": [
      "Question 4"
     ]
    },
    {
     "cell_type": "code",
     "collapsed": false,
     "input": [
      "question(data, 9)"
     ],
     "language": "python",
     "metadata": {},
     "outputs": [
      {
       "output_type": "stream",
       "stream": "stdout",
       "text": [
        "Best silhouette score is: 0.653750 for k = 8.000000\n"
       ]
      },
      {
       "metadata": {},
       "output_type": "pyout",
       "prompt_number": 6,
       "text": [
        "(array([1, 0, 1, ..., 4, 7, 1], dtype=int32),\n",
        " array([[  0.25939935,   0.13841517,  99.60218547],\n",
        "        [ 31.1002631 ,  28.39664581,  40.50309109],\n",
        "        [ 48.86320835,   2.30516114,  48.83163051],\n",
        "        [  1.08607158,  98.51088714,   0.40304127],\n",
        "        [ 10.19207194,  22.65669158,  67.15123649],\n",
        "        [ 98.89778587,   0.5426145 ,   0.55959964],\n",
        "        [  3.40376694,  52.08300299,  44.51323007],\n",
        "        [ 27.13603157,   4.26583698,  68.59813145]]),\n",
        " array([[  32.35294118,   22.70588235,   44.94117647],\n",
        "        [   0.        ,    0.        ,  100.        ],\n",
        "        [  33.33333333,   33.33333333,   33.33333333],\n",
        "        ..., \n",
        "        [  16.66666667,   25.75757576,   57.57575758],\n",
        "        [  20.        ,    0.        ,   80.        ],\n",
        "        [  25.        ,   25.        ,   50.        ]]))"
       ]
      }
     ],
     "prompt_number": 6
    },
    {
     "cell_type": "heading",
     "level": 1,
     "metadata": {},
     "source": [
      "Question 5.a"
     ]
    },
    {
     "cell_type": "code",
     "collapsed": false,
     "input": [
      "# Compute the k-means algorithm\n",
      "k_means_labels, k_means_cluster_centers, X = question(data, 9)\n",
      "counter = collections.Counter(k_means_labels)\n",
      "number_points_per_cluster = counter.values()\n",
      "print 'Number of data points in each cluster:', number_points_per_cluster"
     ],
     "language": "python",
     "metadata": {},
     "outputs": [
      {
       "output_type": "stream",
       "stream": "stdout",
       "text": [
        "Best silhouette score is: 0.638888 for k = 7.000000\n",
        "Number of data points in each cluster: [4662, 10882, 1224, 3524, 785, 2423, 4196, 2864]\n"
       ]
      }
     ],
     "prompt_number": 7
    },
    {
     "cell_type": "heading",
     "level": 1,
     "metadata": {},
     "source": [
      "Question 5.b"
     ]
    },
    {
     "cell_type": "code",
     "collapsed": false,
     "input": [
      "k_means_labels_unique = np.unique(k_means_labels)\n",
      "colors = plt.cm.Spectral(np.linspace(0, 1, len(k_means_labels_unique)))\n",
      "plt.figure(1)\n",
      "for k, col in zip(range(8), colors):\n",
      "    my_members = k_means_labels == k\n",
      "    cluster_center = k_means_cluster_centers[k]\n",
      "    colors = plt.cm.Spectral(np.linspace(0, 1, len(k_means_labels_unique)))\n",
      "    plt.plot(X[my_members, 1], X[my_members, 2], 'w', markerfacecolor=col, marker='.')\n",
      "    plt.plot(cluster_center[1], cluster_center[2], 'o', markerfacecolor=col, markeredgecolor='k', markersize=6)\n",
      "plt.title('CLusters represented with regards to funny and useful votes ')\n",
      "plt.xlabel('Percentage funny votes')\n",
      "plt.ylabel('Percentage useful votes')\n",
      "plt.xticks(np.arange(0, 100, 10))\n",
      "plt.yticks(np.arange(0, 100, 10))\n",
      "plt.show()\n"
     ],
     "language": "python",
     "metadata": {},
     "outputs": [
      {
       "metadata": {},
       "output_type": "display_data",
       "png": "[encoded data removed]",
       "text": [
        "<matplotlib.figure.Figure at 0x10fd03990>"
       ]
      },
      {
       "metadata": {},
       "output_type": "pyout",
       "prompt_number": 11,
       "text": [
        "<matplotlib.figure.Figure at 0x110063f50>"
       ]
      },
      {
       "metadata": {},
       "output_type": "display_data",
       "text": [
        "<matplotlib.figure.Figure at 0x110063f50>"
       ]
      }
     ],
     "prompt_number": 11
    },
    {
     "cell_type": "heading",
     "level": 1,
     "metadata": {},
     "source": [
      "Question 5.c"
     ]
    },
    {
     "cell_type": "code",
     "collapsed": false,
     "input": [
      "variances_stenght_votes = []\n",
      "for k in range(8):\n",
      "    if (k_means_cluster_centers[k][0] > 1) & (k_means_cluster_centers[k][1] > 1) & (k_means_cluster_centers[k][2] > 1):\n",
      "        cluster_center = k_means_cluster_centers[k]\n",
      "        mu = float(k_means_cluster_centers[k][0] + k_means_cluster_centers[k][1] + k_means_cluster_centers[k][2])/3\n",
      "        expected_value_square = float(k_means_cluster_centers[k][0]**2 + k_means_cluster_centers[k][1]**2 + k_means_cluster_centers[k][2]**2)\n",
      "        # Compute the variance for the coordinates of a centroid in order to find the lowest one that\n",
      "        # would give relatively equal strength in all voting categories\n",
      "        variance = expected_value_square - mu**2\n",
      "        variances_stenght_votes.append(variance)\n",
      "\n",
      "same_strenght_cluster_center = min(variances_stenght_votes)\n",
      "for i in range(len(variances_stenght_votes)):\n",
      "    if variances_stenght_votes[i] == same_strenght_cluster_center:\n",
      "        # Output is the number of reviews in the cluster that represented relatively equal strength in all voting categories\n",
      "        print 'Number of reviewers in the cluster that represented relatively equal strength in all voting categories: ', counter[i]"
     ],
     "language": "python",
     "metadata": {},
     "outputs": [
      {
       "output_type": "stream",
       "stream": "stdout",
       "text": [
        "Number of reviewers in the cluster that represented relatively equal strength in all voting categories:  1224\n"
       ]
      }
     ],
     "prompt_number": 9
    },
    {
     "cell_type": "heading",
     "level": 1,
     "metadata": {},
     "source": [
      "Question 6"
     ]
    },
    {
     "cell_type": "code",
     "collapsed": false,
     "input": [
      "init = 6\n",
      "# Looking for the lenght of the data without any blank\n",
      "lenght_true_data = 0\n",
      "for i in range(len(data)):\n",
      "    if (data[i][init] != '') & (data[i][init + 1] != '') & (data[i][init + 2] != '') & (data[i][init + 3] != '') & (data[i][init + 4] != '') & (data[i][init + 5] != '') & (data[i][23] != ''):\n",
      "        lenght_true_data = lenght_true_data + 1\n",
      "\n",
      "# Creating an array where will be stored the votes\n",
      "X = np.zeros((lenght_true_data, 16))\n",
      "average_star_rating = []\n",
      "\n",
      "indice = 0\n",
      "for i in range(len(data)):\n",
      "    # We only take into the account the data different from blank\n",
      "    # Thus, we keep 10801 rows out of 44994\n",
      "    if (data[i][init] != '') & (data[i][init + 1] != '') & (data[i][init + 2] != '') & (data[i][init + 3] != '') & (data[i][init + 4] != '') & (data[i][init + 5] != '') & (data[i][23] != ''):\n",
      "        for j in range(6):\n",
      "            X[indice, j] = float(data[i][init + j])\n",
      "        for j in range(6, 16, 1):\n",
      "            X[indice, j] = float(data[i][14 + j - 6])\n",
      "        indice = indice + 1\n",
      "\n",
      "        # We append in another list the star_rating for the data took into account\n",
      "        average_star_rating.append(data[i][12])\n",
      "\n",
      "# For this question, we use a number of clusters equal to 5\n",
      "n_clusters = 5"
     ],
     "language": "python",
     "metadata": {},
     "outputs": [],
     "prompt_number": 28
    },
    {
     "cell_type": "heading",
     "level": 1,
     "metadata": {},
     "source": [
      "Question 6.a"
     ]
    },
    {
     "cell_type": "code",
     "collapsed": false,
     "input": [
      "# We compute the k-means algorithm and we find the associated silhouette metric\n",
      "k_means_labels, k_means_cluster_centers = kmeans(X, n_clusters)\n",
      "silhouette_coef =  sklearn.metrics.silhouette_score(X, k_means_labels, sample_size = 1000)\n",
      "print 'The silhouette metric for the Question 6a clustering is: ', silhouette_coef"
     ],
     "language": "python",
     "metadata": {},
     "outputs": [
      {
       "output_type": "stream",
       "stream": "stdout",
       "text": [
        "The silhouette metric for the Question 6a clustering is:  0.526205970419\n"
       ]
      }
     ],
     "prompt_number": 29
    },
    {
     "cell_type": "heading",
     "level": 1,
     "metadata": {},
     "source": [
      "Question 6.b"
     ]
    },
    {
     "cell_type": "code",
     "collapsed": false,
     "input": [
      "# List where will be appended the average star rating per cluster\n",
      "average_star_rating_per_cluster = []\n",
      "\n",
      "# For each cluster, we find the average star rating for each point within the cluster\n",
      "# Then, we average the average star rating of all the points\n",
      "for k in range(n_clusters):\n",
      "    average_star_rating_points = []\n",
      "    my_members = k_means_labels == k\n",
      "    for i in range(len(my_members)):\n",
      "        if my_members[i]:\n",
      "            if (average_star_rating[i] != ''):\n",
      "                average_star_rating_points.append(float(average_star_rating[i]))\n",
      "    average_star_rating_of_cluster = float(sum(average_star_rating_points))/len(average_star_rating_points)\n",
      "    average_star_rating_per_cluster.append(average_star_rating_of_cluster)\n",
      "\n",
      "print 'The average of the average star rating among the points in each of the clusters is: ', average_star_rating_per_cluster"
     ],
     "language": "python",
     "metadata": {},
     "outputs": [
      {
       "output_type": "stream",
       "stream": "stdout",
       "text": [
        "The average of the average star rating among the points in each of the clusters is:  [3.749122590492735, 3.8704783425022353, 3.5439680610176714, 3.68181207012284, 3.0480978661487486]\n"
       ]
      }
     ],
     "prompt_number": 30
    },
    {
     "cell_type": "heading",
     "level": 1,
     "metadata": {},
     "source": [
      "Question 7"
     ]
    },
    {
     "cell_type": "code",
     "collapsed": false,
     "input": [
      "    init = 6\n",
      "    # Looking for the lenght of the data without any blank\n",
      "    lenght_true_data = 0\n",
      "    for i in range(len(data)):\n",
      "        if (data[i][init] != '') & (data[i][init + 1] != '') & (data[i][init + 2] != '') & (data[i][init + 3] != '') & (data[i][init + 4] != '') & (data[i][init + 5] != '') & (data[i][23] != ''):\n",
      "            lenght_true_data = lenght_true_data + 1\n",
      "\n",
      "    # Creating an array where will be stored the votes\n",
      "    # We drop the question 18 form group 16 which had too much -Inf/NaN/blank\n",
      "    X = np.zeros((lenght_true_data, 25))\n",
      "    average_star_rating = []\n",
      "\n",
      "    indice = 0\n",
      "    for i in range(len(data)):\n",
      "        # We only take into the account the data different from blank\n",
      "        # Thus, we keep 10801 rows out of 44994\n",
      "        if (data[i][init] != '') & (data[i][init + 1] != '') & (data[i][init + 2] != '') & (data[i][init + 3] != '') & (data[i][init + 4] != '') & (data[i][init + 5] != '') & (data[i][23] != ''):\n",
      "            for j in range(6):\n",
      "                X[indice, j] = float(data[i][init + j])\n",
      "            for j in range(6, 16, 1):\n",
      "                X[indice, j] = float(data[i][14 + j - 6])\n",
      "            for j in range(16, 25, 1):\n",
      "                X[indice, j] = float(data[i][24 + j - 16])\n",
      "            indice = indice + 1\n",
      "\n",
      "    # List where will be added the silhouette metrics for each number of clusters chosen\n",
      "    silhouettes = []\n",
      "    # List where will be added the number of clusters for each number of clusters chosen\n",
      "    nb_clusters = []\n",
      "    # List where will be added the sum of the within cluster variance for each number of clusters chosen\n",
      "    within_cluster_variance_per_cluster = []\n",
      "    # Running the K-means algorithm in order to find the best k\n",
      "    for k in range(2, 12, 1):\n",
      "        k_means_labels, k_means_cluster_centers = kmeans(X, k)\n",
      "        silhouette_coef =  sklearn.metrics.silhouette_score(X, k_means_labels, sample_size = 1000)\n",
      "        silhouettes.append(silhouette_coef)\n",
      "        nb_clusters.append(k)\n",
      "\n",
      "        # We initialize the sum of within cluster variance to 0\n",
      "        E = 0\n",
      "        for cluster_number in range(k):\n",
      "            my_members = k_means_labels == cluster_number\n",
      "            centroid = k_means_cluster_centers[cluster_number]\n",
      "            # We add the euclidian distance from each point within the cluster to the centroid of the cluster\n",
      "            for point in X[my_members, :]:\n",
      "                E = E + distance.euclidean(point, centroid)**2\n",
      "\n",
      "        within_cluster_variance_per_cluster.append(E)"
     ],
     "language": "python",
     "metadata": {},
     "outputs": [],
     "prompt_number": 31
    },
    {
     "cell_type": "heading",
     "level": 1,
     "metadata": {},
     "source": [
      "Question 7.a"
     ]
    },
    {
     "cell_type": "code",
     "collapsed": false,
     "input": [
      "min_silhouettes = min(silhouettes)\n",
      "for i in range(len(silhouettes)):\n",
      "    # Compute the percentage of the silhouette metric explained\n",
      "    silhouettes[i] = 100 - float(silhouettes[i] - min_silhouettes)*100/min_silhouettes\n",
      "\n",
      "# We plot the silhouette explained function of the number of clusters\n",
      "plt.plot(nb_clusters, silhouettes, 'w', markerfacecolor='b', marker='.')\n",
      "plt.title('Silhouette explained vs k')\n",
      "plt.xlabel('Number of clusters')\n",
      "plt.ylabel('Percentage of silhouette metric explained (%)')\n",
      "plt.xticks(nb_clusters)\n",
      "plt.yticks(np.arange(0, 100,10))\n",
      "plt.show()"
     ],
     "language": "python",
     "metadata": {},
     "outputs": [
      {
       "metadata": {},
       "output_type": "display_data",
       "png": "[encoded data removed]",
       "text": [
        "<matplotlib.figure.Figure at 0x11336b610>"
       ]
      }
     ],
     "prompt_number": 32
    },
    {
     "cell_type": "heading",
     "level": 1,
     "metadata": {},
     "source": [
      "Question 7.b"
     ]
    },
    {
     "cell_type": "code",
     "collapsed": false,
     "input": [
      "min_variance = min(within_cluster_variance_per_cluster)\n",
      "for i in range(len(within_cluster_variance_per_cluster)):\n",
      "    # Compute the percentage of the sum within cluster variance explained\n",
      "    within_cluster_variance_per_cluster[i] = 100 - float(within_cluster_variance_per_cluster[i] - min_variance)*100/min_variance\n",
      "\n",
      "# We plot the sum within cluster varianceexplained function of the number of clusters\n",
      "plt.plot(nb_clusters, silhouettes, 'w', markerfacecolor='b', marker='.')\n",
      "plt.title('Sum of within cluster variance explained vs k')\n",
      "plt.xlabel('Number of clusters')\n",
      "plt.ylabel('Percentage of sum of within cluster variance explained (%)')\n",
      "plt.xticks(nb_clusters)\n",
      "plt.yticks(np.arange(0, 100,10))\n",
      "plt.show()"
     ],
     "language": "python",
     "metadata": {},
     "outputs": [
      {
       "metadata": {},
       "output_type": "display_data",
       "png": "[encoded data removed]",
       "text": [
        "<matplotlib.figure.Figure at 0x1139d7750>"
       ]
      }
     ],
     "prompt_number": 33
    },
    {
     "cell_type": "code",
     "collapsed": false,
     "input": [],
     "language": "python",
     "metadata": {},
     "outputs": [],
     "prompt_number": 33
    },
    {
     "cell_type": "code",
     "collapsed": false,
     "input": [],
     "language": "python",
     "metadata": {},
     "outputs": []
    }
   ],
   "metadata": {}
  }
 ]
}