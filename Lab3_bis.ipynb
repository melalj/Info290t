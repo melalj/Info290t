{
 "metadata": {
  "name": "",
  "signature": "sha256:53cf983a44e5c111ddc70fbbc8b3c96062e505a0559df4ac00f79b651a5851c9"
 },
 "nbformat": 3,
 "nbformat_minor": 0,
 "worksheets": [
  {
   "cells": [
    {
     "cell_type": "heading",
     "level": 1,
     "metadata": {},
     "source": [
      "Lab 3"
     ]
    },
    {
     "cell_type": "code",
     "collapsed": false,
     "input": [
      "###############################################################################\n",
      "# Lab 3\n",
      "#\n",
      "# Authors: melalj, davidapei, henri.tilloy, william.nouet\n",
      "#\n",
      "#------------------------------------------------------------------------------\n",
      "# Update: NONE\n",
      "# version = \"0.1\"\n",
      "#------------------------------------------------------------------------------\n",
      "# Creation Date: February 5 2015\n",
      "#\n",
      "###############################################################################\n",
      "\n",
      "import sklearn\n",
      "from sklearn import metrics, cluster\n",
      "from sklearn.cluster import KMeans\n",
      "import numpy as np\n",
      "import matplotlib.pyplot as plt\n",
      "import collections\n",
      "from scipy.spatial import distance\n",
      "%matplotlib inline\n",
      "\n",
      "#-----------------------------------K-means-------------------------------------\n",
      "\n",
      "# Compute the k-means algorithm\n",
      "def kmeans(X, n_clusters):\n",
      "    k_means = KMeans(init='k-means++', n_clusters = n_clusters, n_init = 10)\n",
      "    k_means.fit(X)\n",
      "    k_means_labels = k_means.labels_\n",
      "    k_means_cluster_centers = k_means.cluster_centers_\n",
      "    k_means_labels_unique = np.unique(k_means_labels)\n",
      "\n",
      "    return k_means_labels, k_means_cluster_centers\n",
      "\n",
      "# Find the silhouette metric closer to 1 in order to give the optimal number of cluster\n",
      "def kmeans_silhouette(X):\n",
      "    silhouettes = []\n",
      "    # Running the K-means algorithm in order to find the best k\n",
      "    for k in range(2, 9, 1):\n",
      "        k_means_labels, k_means_cluster_centers = kmeans(X, k)\n",
      "        silhouette_coef =  sklearn.metrics.silhouette_score(X, k_means_labels, sample_size = 1000)\n",
      "        silhouettes.append(silhouette_coef)\n",
      "\n",
      "    best_silhouette = max(silhouettes)\n",
      "\n",
      "    for i in range(len(silhouettes)):\n",
      "        if silhouettes[i] == best_silhouette:\n",
      "            print 'Best silhouette score is: %f for k = %f' % (best_silhouette, i + 2)\n",
      "\n",
      "    return k_means_labels, k_means_cluster_centers\n",
      "\n",
      "#-----------------------------Question 2 to 4-----------------------------------\n",
      "\n",
      "def question(data, init):\n",
      "    # Looking for the lenght of the data without any blank on a feature\n",
      "    lenght_true_data = 0\n",
      "    for i in range(len(data)):\n",
      "        if (data[i][init] != '') & (data[i][init + 1] != '') & (data[i][init + 2] != ''):\n",
      "            lenght_true_data = lenght_true_data + 1\n",
      "\n",
      "    # Creating an array where will be stored the votes\n",
      "    X = np.zeros((lenght_true_data, 3))\n",
      "\n",
      "    # Putting data inside X\n",
      "    indice = 0\n",
      "    # We only take into the account the data different from blank\n",
      "    # Thus, we keep 10801 rows out of 44994\n",
      "    for i in range(len(data)):\n",
      "        if (data[i][init] != '') & (data[i][init + 1] != '') & (data[i][init + 2] != ''):\n",
      "            X[indice, 0] = float(data[i][init])\n",
      "            X[indice, 1] = float(data[i][init + 1])\n",
      "            X[indice, 2] = float(data[i][init + 2])\n",
      "            indice = indice + 1\n",
      "\n",
      "    k_means_labels, k_means_cluster_centers = kmeans_silhouette(X)\n",
      "\n",
      "    return k_means_labels, k_means_cluster_centers, X\n"
     ],
     "language": "python",
     "metadata": {},
     "outputs": [],
     "prompt_number": 20
    },
    {
     "cell_type": "heading",
     "level": 3,
     "metadata": {},
     "source": [
      "Loading file"
     ]
    },
    {
     "cell_type": "code",
     "collapsed": false,
     "input": [
      "file = open('data/yelp_reviewers.txt')\n",
      "content = file.readlines()\n",
      "\n",
      "data = []\n",
      "\n",
      "# Splitting the data\n",
      "for i in content:\n",
      "    split = i.split('|')\n",
      "    data.append(split)\n",
      "\n",
      "del data[0]"
     ],
     "language": "python",
     "metadata": {},
     "outputs": [],
     "prompt_number": 21
    },
    {
     "cell_type": "heading",
     "level": 1,
     "metadata": {},
     "source": [
      "Question 2"
     ]
    },
    {
     "cell_type": "code",
     "collapsed": false,
     "input": [
      "question(data, 2)"
     ],
     "language": "python",
     "metadata": {},
     "outputs": [
      {
       "output_type": "stream",
       "stream": "stdout",
       "text": [
        "Best silhouette score is: 0.990477 for k = 2.000000\n"
       ]
      },
      {
       "metadata": {},
       "output_type": "pyout",
       "prompt_number": 22,
       "text": [
        "(array([0, 3, 0, ..., 0, 0, 0], dtype=int32),\n",
        " array([[  1.25792706e+00,   9.95467011e-01,   2.87899186e+00],\n",
        "        [  1.07643750e+03,   8.69250000e+02,   1.31087500e+03],\n",
        "        [  4.40200000e+03,   5.51700000e+03,   4.34600000e+03],\n",
        "        [  2.32241135e+02,   1.91319149e+02,   3.11546099e+02],\n",
        "        [  3.87700000e+03,   2.12000000e+03,   4.62000000e+03],\n",
        "        [  1.79125000e+03,   1.39425000e+03,   2.19825000e+03],\n",
        "        [  5.75596154e+02,   4.96384615e+02,   6.80730769e+02],\n",
        "        [  6.12420091e+01,   4.56027397e+01,   9.14992390e+01]]),\n",
        " array([[   0.,    0.,    0.],\n",
        "        [ 275.,  193.,  382.],\n",
        "        [   0.,    0.,    0.],\n",
        "        ..., \n",
        "        [  11.,   17.,   38.],\n",
        "        [   1.,    0.,    4.],\n",
        "        [   1.,    1.,    2.]]))"
       ]
      }
     ],
     "prompt_number": 22
    },
    {
     "cell_type": "heading",
     "level": 1,
     "metadata": {},
     "source": [
      "Question 3"
     ]
    },
    {
     "cell_type": "code",
     "collapsed": false,
     "input": [
      "question(data, 6)"
     ],
     "language": "python",
     "metadata": {},
     "outputs": [
      {
       "output_type": "stream",
       "stream": "stdout",
       "text": [
        "Best silhouette score is: 0.570492 for k = 2.000000\n"
       ]
      },
      {
       "metadata": {},
       "output_type": "pyout",
       "prompt_number": 23,
       "text": [
        "(array([1, 3, 5, ..., 6, 2, 7], dtype=int32),\n",
        " array([[ 0.26823354,  0.13065193,  1.45500034],\n",
        "        [ 5.76704914,  5.56954439,  6.02356193],\n",
        "        [ 2.74636603,  2.45543728,  3.31792806],\n",
        "        [ 0.75631038,  1.09095815,  1.40315145],\n",
        "        [ 3.96363603,  3.6905122 ,  4.36680835],\n",
        "        [ 1.76987041,  1.57791365,  2.4231995 ],\n",
        "        [ 1.33408497,  0.33952709,  2.14655234],\n",
        "        [ 0.14253066,  0.11655876,  0.3160121 ]]),\n",
        " array([[ 5.6167711 ,  5.26269019,  5.94542061],\n",
        "        [ 0.69314718,  0.69314718,  0.69314718],\n",
        "        [ 2.19722458,  1.09861229,  2.83321334],\n",
        "        ..., \n",
        "        [ 2.07944154,  0.69314718,  1.60943791],\n",
        "        [ 2.39789527,  2.83321334,  3.63758616],\n",
        "        [ 0.        ,  0.        ,  0.69314718]]))"
       ]
      }
     ],
     "prompt_number": 23
    },
    {
     "cell_type": "heading",
     "level": 1,
     "metadata": {},
     "source": [
      "Question 4"
     ]
    },
    {
     "cell_type": "code",
     "collapsed": false,
     "input": [
      "question(data, 9)"
     ],
     "language": "python",
     "metadata": {},
     "outputs": [
      {
       "output_type": "stream",
       "stream": "stdout",
       "text": [
        "Best silhouette score is: 0.688690 for k = 8.000000\n"
       ]
      },
      {
       "metadata": {},
       "output_type": "pyout",
       "prompt_number": 24,
       "text": [
        "(array([1, 0, 1, ..., 5, 6, 1], dtype=int32),\n",
        " array([[  0.26161116,   0.1393254 ,  99.59906344],\n",
        "        [ 31.68501051,  27.39191578,  40.92307371],\n",
        "        [  6.71869142,  50.54109493,  42.74021365],\n",
        "        [ 99.30020972,   0.55175179,   0.14803849],\n",
        "        [  1.05668406,  98.58288868,   0.36042725],\n",
        "        [ 10.21366642,  22.51358588,  67.2727477 ],\n",
        "        [ 27.88466169,   4.07461905,  68.04071925],\n",
        "        [ 49.89119224,   2.21480281,  47.89400495]]),\n",
        " array([[  32.35294118,   22.70588235,   44.94117647],\n",
        "        [   0.        ,    0.        ,  100.        ],\n",
        "        [  33.33333333,   33.33333333,   33.33333333],\n",
        "        ..., \n",
        "        [  16.66666667,   25.75757576,   57.57575758],\n",
        "        [  20.        ,    0.        ,   80.        ],\n",
        "        [  25.        ,   25.        ,   50.        ]]))"
       ]
      }
     ],
     "prompt_number": 24
    },
    {
     "cell_type": "heading",
     "level": 1,
     "metadata": {},
     "source": [
      "Question 5.a"
     ]
    },
    {
     "cell_type": "code",
     "collapsed": false,
     "input": [
      "# Compute the k-means algorithm\n",
      "k_means_labels, k_means_cluster_centers, X = question(data, 9)\n",
      "counter = collections.Counter(k_means_labels)\n",
      "number_points_per_cluster = counter.values()\n",
      "print 'Number of data points in each cluster:', number_points_per_cluster"
     ],
     "language": "python",
     "metadata": {},
     "outputs": [
      {
       "output_type": "stream",
       "stream": "stdout",
       "text": [
        "Best silhouette score is: 0.658395 for k = 7.000000\n",
        "Number of data points in each cluster: [1641, 10734, 2973, 785, 1164, 6327, 3822, 3114]\n"
       ]
      }
     ],
     "prompt_number": 25
    },
    {
     "cell_type": "heading",
     "level": 1,
     "metadata": {},
     "source": [
      "Question 5.b"
     ]
    },
    {
     "cell_type": "code",
     "collapsed": false,
     "input": [
      "k_means_labels_unique = np.unique(k_means_labels)\n",
      "colors = plt.cm.Spectral(np.linspace(0, 1, len(k_means_labels_unique)))\n",
      "plt.figure(1)\n",
      "for k, col in zip(range(8), colors):\n",
      "    my_members = k_means_labels == k\n",
      "    cluster_center = k_means_cluster_centers[k]\n",
      "    colors = plt.cm.Spectral(np.linspace(0, 1, len(k_means_labels_unique)))\n",
      "    plt.plot(X[my_members, 1], X[my_members, 2], 'w', markerfacecolor=col, marker='.')\n",
      "    plt.plot(cluster_center[1], cluster_center[2], 'o', markerfacecolor=col, markeredgecolor='k', markersize=6)\n",
      "plt.title('CLusters represented with regards to funny and useful votes ')\n",
      "plt.xlabel('Percentage funny votes')\n",
      "plt.ylabel('Percentage useful votes')\n",
      "plt.xticks(np.arange(0, 100, 10))\n",
      "plt.yticks(np.arange(0, 100, 10))\n",
      "plt.show()"
     ],
     "language": "python",
     "metadata": {},
     "outputs": [
      {
       "metadata": {},
       "output_type": "display_data",
       "png": "[encoded data removed]",
       "text": [
        "<matplotlib.figure.Figure at 0x1123cfd90>"
       ]
      }
     ],
     "prompt_number": 26
    },
    {
     "cell_type": "heading",
     "level": 1,
     "metadata": {},
     "source": [
      "Question 5.c"
     ]
    },
    {
     "cell_type": "code",
     "collapsed": false,
     "input": [
      "variances_stenght_votes = []\n",
      "for k in range(8):\n",
      "    if (k_means_cluster_centers[k][0] > 1) & (k_means_cluster_centers[k][1] > 1) & (k_means_cluster_centers[k][2] > 1):\n",
      "        cluster_center = k_means_cluster_centers[k]\n",
      "        mu = float(k_means_cluster_centers[k][0] + k_means_cluster_centers[k][1] + k_means_cluster_centers[k][2])/3\n",
      "        expected_value_square = float(k_means_cluster_centers[k][0]**2 + k_means_cluster_centers[k][1]**2 + k_means_cluster_centers[k][2]**2)\n",
      "        # Compute the variance for the coordinates of a centroid in order to find the lowest one that\n",
      "        # would give relatively equal strength in all voting categories\n",
      "        variance = expected_value_square - mu**2\n",
      "        variances_stenght_votes.append(variance)\n",
      "\n",
      "same_strenght_cluster_center = min(variances_stenght_votes)\n",
      "for i in range(len(variances_stenght_votes)):\n",
      "    if variances_stenght_votes[i] == same_strenght_cluster_center:\n",
      "        # Output is the number of reviews in the cluster that represented relatively equal strength in all voting categories\n",
      "        print 'Number of reviewers in the cluster that represented relatively equal strength in all voting categories: ', counter[i]"
     ],
     "language": "python",
     "metadata": {},
     "outputs": [
      {
       "output_type": "stream",
       "stream": "stdout",
       "text": [
        "Number of reviewers in the cluster that represented relatively equal strength in all voting categories:  2973\n"
       ]
      }
     ],
     "prompt_number": 27
    },
    {
     "cell_type": "heading",
     "level": 1,
     "metadata": {},
     "source": [
      "Question 6"
     ]
    },
    {
     "cell_type": "code",
     "collapsed": false,
     "input": [
      "init = 6\n",
      "# Looking for the lenght of the data without any blank\n",
      "lenght_true_data = 0\n",
      "for i in range(len(data)):\n",
      "    if (data[i][init] != '') & (data[i][init + 1] != '') & (data[i][init + 2] != '') & (data[i][init + 3] != '') & (data[i][init + 4] != '') & (data[i][init + 5] != '') & (data[i][23] != ''):\n",
      "        lenght_true_data = lenght_true_data + 1\n",
      "\n",
      "# Creating an array where will be stored the votes\n",
      "X = np.zeros((lenght_true_data, 16))\n",
      "average_star_rating = []\n",
      "\n",
      "indice = 0\n",
      "for i in range(len(data)):\n",
      "    # We only take into the account the data different from blank\n",
      "    # Thus, we keep 10801 rows out of 44994\n",
      "    if (data[i][init] != '') & (data[i][init + 1] != '') & (data[i][init + 2] != '') & (data[i][init + 3] != '') & (data[i][init + 4] != '') & (data[i][init + 5] != '') & (data[i][23] != ''):\n",
      "        for j in range(6):\n",
      "            X[indice, j] = float(data[i][init + j])\n",
      "        for j in range(6, 16, 1):\n",
      "            X[indice, j] = float(data[i][14 + j - 6])\n",
      "        indice = indice + 1\n",
      "\n",
      "        # We append in another list the star_rating for the data took into account\n",
      "        average_star_rating.append(data[i][12])\n",
      "\n",
      "# For this question, we use a number of clusters equal to 5\n",
      "n_clusters = 5"
     ],
     "language": "python",
     "metadata": {},
     "outputs": [],
     "prompt_number": 28
    },
    {
     "cell_type": "heading",
     "level": 1,
     "metadata": {},
     "source": [
      "Question 6.a"
     ]
    },
    {
     "cell_type": "code",
     "collapsed": false,
     "input": [
      "# We compute the k-means algorithm and we find the associated silhouette metric\n",
      "k_means_labels, k_means_cluster_centers = kmeans(X, n_clusters)\n",
      "silhouette_coef =  sklearn.metrics.silhouette_score(X, k_means_labels, sample_size = 1000)\n",
      "print 'The silhouette metric for the Question 6a clustering is: ', silhouette_coef"
     ],
     "language": "python",
     "metadata": {},
     "outputs": [
      {
       "output_type": "stream",
       "stream": "stdout",
       "text": [
        "The silhouette metric for the Question 6a clustering is:  0.526205970419\n"
       ]
      }
     ],
     "prompt_number": 29
    },
    {
     "cell_type": "heading",
     "level": 1,
     "metadata": {},
     "source": [
      "Question 6.b"
     ]
    },
    {
     "cell_type": "code",
     "collapsed": false,
     "input": [
      "# List where will be appended the average star rating per cluster\n",
      "average_star_rating_per_cluster = []\n",
      "\n",
      "# For each cluster, we find the average star rating for each point within the cluster\n",
      "# Then, we average the average star rating of all the points\n",
      "for k in range(n_clusters):\n",
      "    average_star_rating_points = []\n",
      "    my_members = k_means_labels == k\n",
      "    for i in range(len(my_members)):\n",
      "        if my_members[i]:\n",
      "            if (average_star_rating[i] != ''):\n",
      "                average_star_rating_points.append(float(average_star_rating[i]))\n",
      "    average_star_rating_of_cluster = float(sum(average_star_rating_points))/len(average_star_rating_points)\n",
      "    average_star_rating_per_cluster.append(average_star_rating_of_cluster)\n",
      "\n",
      "print 'The average of the average star rating among the points in each of the clusters is: ', average_star_rating_per_cluster"
     ],
     "language": "python",
     "metadata": {},
     "outputs": [
      {
       "output_type": "stream",
       "stream": "stdout",
       "text": [
        "The average of the average star rating among the points in each of the clusters is:  [3.749122590492735, 3.8704783425022353, 3.5439680610176714, 3.68181207012284, 3.0480978661487486]\n"
       ]
      }
     ],
     "prompt_number": 30
    },
    {
     "cell_type": "heading",
     "level": 1,
     "metadata": {},
     "source": [
      "Question 7"
     ]
    },
    {
     "cell_type": "code",
     "collapsed": false,
     "input": [
      "    init = 6\n",
      "    # Looking for the lenght of the data without any blank\n",
      "    lenght_true_data = 0\n",
      "    for i in range(len(data)):\n",
      "        if (data[i][init] != '') & (data[i][init + 1] != '') & (data[i][init + 2] != '') & (data[i][init + 3] != '') & (data[i][init + 4] != '') & (data[i][init + 5] != '') & (data[i][23] != ''):\n",
      "            lenght_true_data = lenght_true_data + 1\n",
      "\n",
      "    # Creating an array where will be stored the votes\n",
      "    # We drop the question 18 form group 16 which had too much -Inf/NaN/blank\n",
      "    X = np.zeros((lenght_true_data, 25))\n",
      "    average_star_rating = []\n",
      "\n",
      "    indice = 0\n",
      "    for i in range(len(data)):\n",
      "        # We only take into the account the data different from blank\n",
      "        # Thus, we keep 10801 rows out of 44994\n",
      "        if (data[i][init] != '') & (data[i][init + 1] != '') & (data[i][init + 2] != '') & (data[i][init + 3] != '') & (data[i][init + 4] != '') & (data[i][init + 5] != '') & (data[i][23] != ''):\n",
      "            for j in range(6):\n",
      "                X[indice, j] = float(data[i][init + j])\n",
      "            for j in range(6, 16, 1):\n",
      "                X[indice, j] = float(data[i][14 + j - 6])\n",
      "            for j in range(16, 25, 1):\n",
      "                X[indice, j] = float(data[i][24 + j - 16])\n",
      "            indice = indice + 1\n",
      "\n",
      "    # List where will be added the silhouette metrics for each number of clusters chosen\n",
      "    silhouettes = []\n",
      "    # List where will be added the number of clusters for each number of clusters chosen\n",
      "    nb_clusters = []\n",
      "    # List where will be added the sum of the within cluster variance for each number of clusters chosen\n",
      "    within_cluster_variance_per_cluster = []\n",
      "    # Running the K-means algorithm in order to find the best k\n",
      "    for k in range(2, 12, 1):\n",
      "        k_means_labels, k_means_cluster_centers = kmeans(X, k)\n",
      "        silhouette_coef =  sklearn.metrics.silhouette_score(X, k_means_labels, sample_size = 1000)\n",
      "        silhouettes.append(silhouette_coef)\n",
      "        nb_clusters.append(k)\n",
      "\n",
      "        # We initialize the sum of within cluster variance to 0\n",
      "        E = 0\n",
      "        for cluster_number in range(k):\n",
      "            my_members = k_means_labels == cluster_number\n",
      "            centroid = k_means_cluster_centers[cluster_number]\n",
      "            # We add the euclidian distance from each point within the cluster to the centroid of the cluster\n",
      "            for point in X[my_members, :]:\n",
      "                E = E + distance.euclidean(point, centroid)**2\n",
      "\n",
      "        within_cluster_variance_per_cluster.append(E)"
     ],
     "language": "python",
     "metadata": {},
     "outputs": [],
     "prompt_number": 31
    },
    {
     "cell_type": "heading",
     "level": 1,
     "metadata": {},
     "source": [
      "Question 7.a"
     ]
    },
    {
     "cell_type": "code",
     "collapsed": false,
     "input": [
      "min_silhouettes = min(silhouettes)\n",
      "for i in range(len(silhouettes)):\n",
      "    # Compute the percentage of the silhouette metric explained\n",
      "    silhouettes[i] = 100 - float(silhouettes[i] - min_silhouettes)*100/min_silhouettes\n",
      "\n",
      "# We plot the silhouette explained function of the number of clusters\n",
      "plt.plot(nb_clusters, silhouettes, 'w', markerfacecolor='b', marker='.')\n",
      "plt.title('Silhouette explained vs k')\n",
      "plt.xlabel('Number of clusters')\n",
      "plt.ylabel('Percentage of silhouette metric explained (%)')\n",
      "plt.xticks(nb_clusters)\n",
      "plt.yticks(np.arange(0, 100,10))\n",
      "plt.show()"
     ],
     "language": "python",
     "metadata": {},
     "outputs": [
      {
       "metadata": {},
       "output_type": "display_data",
       "png": "[encoded data removed]",
       "text": [
        "<matplotlib.figure.Figure at 0x11336b610>"
       ]
      }
     ],
     "prompt_number": 32
    },
    {
     "cell_type": "heading",
     "level": 1,
     "metadata": {},
     "source": [
      "Question 7.b"
     ]
    },
    {
     "cell_type": "code",
     "collapsed": false,
     "input": [
      "min_variance = min(within_cluster_variance_per_cluster)\n",
      "for i in range(len(within_cluster_variance_per_cluster)):\n",
      "    # Compute the percentage of the sum within cluster variance explained\n",
      "    within_cluster_variance_per_cluster[i] = 100 - float(within_cluster_variance_per_cluster[i] - min_variance)*100/min_variance\n",
      "\n",
      "# We plot the sum within cluster varianceexplained function of the number of clusters\n",
      "plt.plot(nb_clusters, silhouettes, 'w', markerfacecolor='b', marker='.')\n",
      "plt.title('Sum of within cluster variance explained vs k')\n",
      "plt.xlabel('Number of clusters')\n",
      "plt.ylabel('Percentage of sum of within cluster variance explained (%)')\n",
      "plt.xticks(nb_clusters)\n",
      "plt.yticks(np.arange(0, 100,10))\n",
      "plt.show()"
     ],
     "language": "python",
     "metadata": {},
     "outputs": [
      {
       "metadata": {},
       "output_type": "display_data",
       "png": "[encoded data removed]",
       "text": [
        "<matplotlib.figure.Figure at 0x1139d7750>"
       ]
      }
     ],
     "prompt_number": 33
    },
    {
     "cell_type": "code",
     "collapsed": false,
     "input": [],
     "language": "python",
     "metadata": {},
     "outputs": [],
     "prompt_number": 33
    },
    {
     "cell_type": "code",
     "collapsed": false,
     "input": [],
     "language": "python",
     "metadata": {},
     "outputs": []
    }
   ],
   "metadata": {}
  }
 ]
}