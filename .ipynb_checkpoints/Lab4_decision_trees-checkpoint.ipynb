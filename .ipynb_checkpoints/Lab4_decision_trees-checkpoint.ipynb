{
 "metadata": {
  "name": "",
  "signature": "sha256:8a69adace62334ea7a82c5d39bfb916b0078861691dcbb0ba59aada3334ea367"
 },
 "nbformat": 3,
 "nbformat_minor": 0,
 "worksheets": [
  {
   "cells": [
    {
     "cell_type": "heading",
     "level": 1,
     "metadata": {},
     "source": [
      "Lab 4- Decision Trees"
     ]
    },
    {
     "cell_type": "markdown",
     "metadata": {},
     "source": [
      "This assignment uses 2012 data obtained from the Federal Election Commission on contributions to candidates from committees. The data dictionary is available at http://www.fec.gov/finance/disclosure/metadata/DataDictionaryContributionstoCandidates.shtml. The file we've given you has been subset to 10,000 randomly sampled rows, wth some columns removed"
     ]
    },
    {
     "cell_type": "code",
     "collapsed": false,
     "input": [
      "from __future__ import division\n",
      "from collections import Counter, defaultdict\n",
      "from itertools import combinations \n",
      "import pandas as pd\n",
      "import numpy as np"
     ],
     "language": "python",
     "metadata": {},
     "outputs": [],
     "prompt_number": 1
    },
    {
     "cell_type": "code",
     "collapsed": false,
     "input": [
      "df = pd.read_csv('data/lab4_candidate_contributions.csv')\n",
      "\n",
      "#convert zip code and transaction date from floats to strings (since we wnat to treat them as categorical)\n",
      "df.ZIP_CODE = df.ZIP_CODE.astype('int').astype('str')\n",
      "df.TRANSACTION_DT = df.TRANSACTION_DT.astype('int').astype('str')\n",
      "df.head()"
     ],
     "language": "python",
     "metadata": {},
     "outputs": [
      {
       "html": [
        "<div style=\"max-height:1000px;max-width:1500px;overflow:auto;\">\n",
        "<table border=\"1\" class=\"dataframe\">\n",
        "  <thead>\n",
        "    <tr style=\"text-align: right;\">\n",
        "      <th></th>\n",
        "      <th>CMTE_ID</th>\n",
        "      <th>AMNDT_IND</th>\n",
        "      <th>RPT_TP</th>\n",
        "      <th>ENTITY_TP</th>\n",
        "      <th>NAME</th>\n",
        "      <th>CITY</th>\n",
        "      <th>STATE</th>\n",
        "      <th>ZIP_CODE</th>\n",
        "      <th>TRANSACTION_DT</th>\n",
        "      <th>TRANSACTION_AMT</th>\n",
        "      <th>CAND_ID</th>\n",
        "    </tr>\n",
        "  </thead>\n",
        "  <tbody>\n",
        "    <tr>\n",
        "      <th>0</th>\n",
        "      <td> C90011156</td>\n",
        "      <td> N</td>\n",
        "      <td> Q3</td>\n",
        "      <td> IND</td>\n",
        "      <td> ROULAND, PRESTON</td>\n",
        "      <td> CLEVELAND</td>\n",
        "      <td> OH</td>\n",
        "      <td> 44135</td>\n",
        "      <td>  9182012</td>\n",
        "      <td> 26</td>\n",
        "      <td>  Obama</td>\n",
        "    </tr>\n",
        "    <tr>\n",
        "      <th>1</th>\n",
        "      <td> C90011156</td>\n",
        "      <td> N</td>\n",
        "      <td> Q3</td>\n",
        "      <td> IND</td>\n",
        "      <td>   DANFORD, KAYLA</td>\n",
        "      <td>    OXFORD</td>\n",
        "      <td> OH</td>\n",
        "      <td> 45056</td>\n",
        "      <td>  9242012</td>\n",
        "      <td> 17</td>\n",
        "      <td>  Obama</td>\n",
        "    </tr>\n",
        "    <tr>\n",
        "      <th>2</th>\n",
        "      <td> C90011156</td>\n",
        "      <td> N</td>\n",
        "      <td> YE</td>\n",
        "      <td> IND</td>\n",
        "      <td>   CLARK, BARBARA</td>\n",
        "      <td> WHITEHALL</td>\n",
        "      <td> OH</td>\n",
        "      <td> 43213</td>\n",
        "      <td> 10032012</td>\n",
        "      <td> 18</td>\n",
        "      <td> Romney</td>\n",
        "    </tr>\n",
        "    <tr>\n",
        "      <th>3</th>\n",
        "      <td> C90011156</td>\n",
        "      <td> N</td>\n",
        "      <td> YE</td>\n",
        "      <td> ORG</td>\n",
        "      <td>  JENNIFER JANNON</td>\n",
        "      <td>   DORMONT</td>\n",
        "      <td> PA</td>\n",
        "      <td> 15216</td>\n",
        "      <td> 10262012</td>\n",
        "      <td> 11</td>\n",
        "      <td>  Obama</td>\n",
        "    </tr>\n",
        "    <tr>\n",
        "      <th>4</th>\n",
        "      <td> C90011156</td>\n",
        "      <td> N</td>\n",
        "      <td> YE</td>\n",
        "      <td> IND</td>\n",
        "      <td>    ARNDI, PHILIP</td>\n",
        "      <td>    BOSTON</td>\n",
        "      <td> MA</td>\n",
        "      <td>  2115</td>\n",
        "      <td> 11062012</td>\n",
        "      <td> 57</td>\n",
        "      <td>  Obama</td>\n",
        "    </tr>\n",
        "  </tbody>\n",
        "</table>\n",
        "</div>"
       ],
       "metadata": {},
       "output_type": "pyout",
       "prompt_number": 2,
       "text": [
        "     CMTE_ID AMNDT_IND RPT_TP ENTITY_TP              NAME       CITY STATE  \\\n",
        "0  C90011156         N     Q3       IND  ROULAND, PRESTON  CLEVELAND    OH   \n",
        "1  C90011156         N     Q3       IND    DANFORD, KAYLA     OXFORD    OH   \n",
        "2  C90011156         N     YE       IND    CLARK, BARBARA  WHITEHALL    OH   \n",
        "3  C90011156         N     YE       ORG   JENNIFER JANNON    DORMONT    PA   \n",
        "4  C90011156         N     YE       IND     ARNDI, PHILIP     BOSTON    MA   \n",
        "\n",
        "  ZIP_CODE TRANSACTION_DT  TRANSACTION_AMT CAND_ID  \n",
        "0    44135        9182012               26   Obama  \n",
        "1    45056        9242012               17   Obama  \n",
        "2    43213       10032012               18  Romney  \n",
        "3    15216       10262012               11   Obama  \n",
        "4     2115       11062012               57   Obama  "
       ]
      }
     ],
     "prompt_number": 2
    },
    {
     "cell_type": "heading",
     "level": 2,
     "metadata": {},
     "source": [
      "Calculating Gini Index"
     ]
    },
    {
     "cell_type": "markdown",
     "metadata": {},
     "source": [
      "\n",
      "\n",
      "**Question 1: How many rows are there in the dataset for Obama? For Romney? **\n",
      "\n"
     ]
    },
    {
     "cell_type": "code",
     "collapsed": false,
     "input": [
      "count_obama = len(df[df['CAND_ID'] == \"Obama\"])\n",
      "count_romney = len(df[df['CAND_ID'] == \"Romney\"])\n",
      "count_total = count_obama + count_romney\n",
      "\n",
      "print \" Obama : %i\" % count_obama\n",
      "print \" Romney  : %i\" % count_romney\n",
      "print \" Total  : %i\" % count_total"
     ],
     "language": "python",
     "metadata": {},
     "outputs": [
      {
       "output_type": "stream",
       "stream": "stdout",
       "text": [
        " Obama : 5761\n",
        " Romney  : 4239\n",
        " Total  : 10000\n"
       ]
      }
     ],
     "prompt_number": 20
    },
    {
     "cell_type": "markdown",
     "metadata": {},
     "source": [
      "**Question 2: What is the Gini Index of the this dataset, using Romney and Obama as the target classes?**"
     ]
    },
    {
     "cell_type": "code",
     "collapsed": false,
     "input": [
      "gini = 1 - ( (count_obama/count_total)**2 + (count_romney/count_total)**2)\n",
      "print \" Gini: %f\" % gini"
     ],
     "language": "python",
     "metadata": {},
     "outputs": [
      {
       "output_type": "stream",
       "stream": "stdout",
       "text": [
        " Gini: 0.488418\n"
       ]
      }
     ],
     "prompt_number": 10
    },
    {
     "cell_type": "heading",
     "level": 2,
     "metadata": {},
     "source": [
      "Best Split of a Numeric Feature"
     ]
    },
    {
     "cell_type": "markdown",
     "metadata": {},
     "source": [
      "**Question 3: What is the best split point of the TRANSACTION_AMT feature. **"
     ]
    },
    {
     "cell_type": "code",
     "collapsed": false,
     "input": [
      "pivot = df.reset_index().pivot_table(columns='CAND_ID', index='TRANSACTION_AMT', values='index', aggfunc='count').fillna(0)\n",
      "ginis = []\n",
      "for amt in pivot:\n",
      "    print pivot['Obama']\n"
     ],
     "language": "python",
     "metadata": {},
     "outputs": [
      {
       "output_type": "stream",
       "stream": "stdout",
       "text": [
        "TRANSACTION_AMT\n",
        "-8144               1\n",
        "-6971               1\n",
        "-5000               0\n",
        "-2232               2\n",
        "-2000               0\n",
        "-728                2\n",
        "-214                1\n",
        "-65                 3\n",
        "-54                 1\n",
        "-25                 0\n",
        "-22                 2\n",
        "-15                 3\n",
        "-7                  1\n",
        " 0                  8\n",
        " 1                 15\n",
        "...\n",
        "1965688            0\n",
        "2052020            1\n",
        "2052588            0\n",
        "2100000            1\n",
        "2202023            0\n",
        "2212703            1\n",
        "2334979            0\n",
        "3316797            1\n",
        "3532864            1\n",
        "3760710            2\n",
        "3976469            0\n",
        "5130816            1\n",
        "5314224            1\n",
        "6503103            1\n",
        "9856374            1\n",
        "Name: Obama, Length: 1344, dtype: float64\n",
        "TRANSACTION_AMT\n",
        "-8144               1\n",
        "-6971               1\n",
        "-5000               0\n",
        "-2232               2\n",
        "-2000               0\n",
        "-728                2\n",
        "-214                1\n",
        "-65                 3\n",
        "-54                 1\n",
        "-25                 0\n",
        "-22                 2\n",
        "-15                 3\n",
        "-7                  1\n",
        " 0                  8\n",
        " 1                 15\n",
        "...\n",
        "1965688            0\n",
        "2052020            1\n",
        "2052588            0\n",
        "2100000            1\n",
        "2202023            0\n",
        "2212703            1\n",
        "2334979            0\n",
        "3316797            1\n",
        "3532864            1\n",
        "3760710            2\n",
        "3976469            0\n",
        "5130816            1\n",
        "5314224            1\n",
        "6503103            1\n",
        "9856374            1\n",
        "Name: Obama, Length: 1344, dtype: float64\n"
       ]
      }
     ],
     "prompt_number": 53
    },
    {
     "cell_type": "markdown",
     "metadata": {},
     "source": [
      "**Question 4: What is the Gini Index of this best split?**"
     ]
    },
    {
     "cell_type": "markdown",
     "metadata": {},
     "source": [
      "**Question 5: How much does this partitioning reduce the Gini Index over that of the overall dataset?**"
     ]
    },
    {
     "cell_type": "markdown",
     "metadata": {},
     "source": [
      "**Question 6: How many Romney rows are below your best split point? Obama rows?**"
     ]
    },
    {
     "cell_type": "markdown",
     "metadata": {},
     "source": [
      "**Question 7: How many Romney rows are above your best split point? Obama rows?**"
     ]
    },
    {
     "cell_type": "markdown",
     "metadata": {},
     "source": [
      "Recall that, to calculate the best split of this numeric field, you'll need to order your data by TRANSACTION AMT, then consider the midpoint between each pair of consecutive transaction amounts as a potential split point, then calculate the Gini Index for that partitioning. You'll want to keep track of the best split point and its Gini Index (remember that you are trying to minimize the Gini Index). \n",
      "\n",
      "There are a lot of ways to do this. Some are very fast, others very slow. One tip to make this run quickly is, as you consecutively step through the data and calculate the Gini Index of each possible split point, keep a running total of the number of rows for each candidate that are located above and below the split point. \n",
      "\n",
      "Some Python tips: \n",
      "\n",
      "* Counter(), from the collections module, is a special dictionary for counting values of a key\n",
      "* zip() lets you concatenate lists into a list of tuples (for example, if we have a list of the candidates and a list of transaction amounts, zip(candidate_list, transaction_amount) would give us a list of (candidate, transaction amount) pairs"
     ]
    },
    {
     "cell_type": "code",
     "collapsed": false,
     "input": [],
     "language": "python",
     "metadata": {},
     "outputs": [],
     "prompt_number": 0
    },
    {
     "cell_type": "heading",
     "level": 2,
     "metadata": {},
     "source": [
      "Best Split of a Categorial Variable"
     ]
    },
    {
     "cell_type": "markdown",
     "metadata": {},
     "source": [
      "**Question 8: How many possible splits are there of the ENTITY_TP feature?**"
     ]
    },
    {
     "cell_type": "code",
     "collapsed": false,
     "input": [
      "df_entity = df['ENTITY_TP']\n",
      "unique_entities = pd.unique(df_entity.values.ravel())\n",
      "#print 'There are %s different entities' % len(unique_entities)\n",
      "nb_splits = float(2**len(unique_entities) - 2)/2\n",
      "print '%i splits possible' % nb_splits"
     ],
     "language": "python",
     "metadata": {},
     "outputs": [
      {
       "output_type": "stream",
       "stream": "stdout",
       "text": [
        "63 splits possible\n"
       ]
      }
     ],
     "prompt_number": 55
    },
    {
     "cell_type": "markdown",
     "metadata": {},
     "source": [
      "**Question 9: Which split of ENTITY_TP best splits the Obama and Romney rows, as measured by the Gini Index?**"
     ]
    },
    {
     "cell_type": "markdown",
     "metadata": {},
     "source": [
      "**Question 10: What is the Gini Index of this best split?**"
     ]
    },
    {
     "cell_type": "markdown",
     "metadata": {},
     "source": [
      "**Question 11: How much does this partitioning reduce the Gini Index over that of the overall data set?**"
     ]
    },
    {
     "cell_type": "markdown",
     "metadata": {},
     "source": [
      "**Question 12: How many Romney rows and Obama rows are in your first partition? How many Romney rows and Obama rows are in your second partition?**"
     ]
    },
    {
     "cell_type": "markdown",
     "metadata": {},
     "source": [
      "In this exercise, you will be partitioning the original dataset (as opposed to further partitioning the transaction amount partitions from the previous set of questions).\n",
      "\n",
      "Python tip: the combinations function of the itertools module allows you to enumerate combinations of a list"
     ]
    },
    {
     "cell_type": "code",
     "collapsed": false,
     "input": [],
     "language": "python",
     "metadata": {},
     "outputs": [],
     "prompt_number": 0
    },
    {
     "cell_type": "heading",
     "level": 2,
     "metadata": {},
     "source": [
      "Training a decision tree"
     ]
    },
    {
     "cell_type": "markdown",
     "metadata": {},
     "source": [
      "**Question 13: Using all of the features in the original dataframe read in at the top of this notebook, train a decision tree classifier that has a depth of three (including the root node and leaf nodes). What is the accuracy of this classifier on the training data?**"
     ]
    },
    {
     "cell_type": "markdown",
     "metadata": {},
     "source": [
      "**Question 14: Export your decision tree to graphviz. Please submit a png file of this graphic to bcourses. In your write-up, write down the interpretation of the rule at each node (for example, 'Root node: rows from state AL go the the left, rows from all other states go to the right. Left child of root node: ... etc**"
     ]
    },
    {
     "cell_type": "markdown",
     "metadata": {},
     "source": [
      "**Question 15: For each of your leaf nodes, specify the percentage of Obama rows in that node (out of the total number of rows at that node).**"
     ]
    },
    {
     "cell_type": "markdown",
     "metadata": {},
     "source": [
      "See this notebook for the basics of training a decision tree in scikit-learn and exporting the outputs to view in graphviz: http://nbviewer.ipython.org/gist/tebarkley/b68c04d9b31e64ce6023\n",
      "\n",
      "Scikit-learn classifiers require class labels and features to be in numeric arrays. As such, you will need to turn your categorical features into numeric arrays using DictVectorizer. This is a helpful notebook for understanding how to do this: http://nbviewer.ipython.org/gist/sarguido/7423289. You can turn a pandas dataframe of features into a dictionary of the form needed by DictVectorizer by using df.to_dict('records'). Make sure you remove the class label first (in this case, CAND_ID). If you use the class label as a feature, your classifier will have a training accuracy of 100%! The example notebook link also shows how to turn your class labels into a numeric array using sklearn.preprocessing.LabelEncoder().\n",
      "\n",
      "We already did this for you at the top of the notebook, but before you convert your features into numeric arrays, you should always make sure they are of the correct type (ie zip code should be a string, not a float, because it is a categorical variable). \n",
      "\n",
      "Question 14 asks you to interpret the rules at each decision tree node using the graphviz output. The graphviz output looks cryptic (ie it might tell you that X[1014] < 0.5 is the best split for a particular node. To figure out what feature that corresponds to, use the .get_feature_names() function of your DictVectorizer object. If that returns something like 'CITY=PHOENIX', then you know that the left child of the node contains rows not in Phoenix ('CITY=PHOENIX' ==0) and the right child of the node contains rows in Phoenix ('CITY=PHOENIX' == 1)."
     ]
    },
    {
     "cell_type": "code",
     "collapsed": false,
     "input": [
      "import sklearn\n",
      "from sklearn.tree import DecisionTreeClassifier\n",
      "from sklearn.feature_extraction import DictVectorizer #to turn categorial variables into numeric arrays\n",
      "from sklearn import preprocessing #to transform the feature labels"
     ],
     "language": "python",
     "metadata": {},
     "outputs": [],
     "prompt_number": 1
    },
    {
     "cell_type": "code",
     "collapsed": false,
     "input": [],
     "language": "python",
     "metadata": {},
     "outputs": [],
     "prompt_number": 162
    }
   ],
   "metadata": {}
  }
 ]
}