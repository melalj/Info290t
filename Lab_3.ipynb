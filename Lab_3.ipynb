{
 "metadata": {
  "name": "",
  "signature": "sha256:6e920d8be4ce497224a49efa64a69df533b3ee82289a14b294ce7eb75bd2a5a0"
 },
 "nbformat": 3,
 "nbformat_minor": 0,
 "worksheets": []
}