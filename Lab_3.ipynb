{
 "metadata": {
  "name": "",
  "signature": "sha256:6eaf87e731b82fa86f7c1ae41d94b1da38d2e582793729437661427dfd71db47"
 },
 "nbformat": 3,
 "nbformat_minor": 0,
 "worksheets": [
  {
   "cells": [
    {
     "cell_type": "code",
     "collapsed": false,
     "input": [
      "import pandas as pd\n",
      "import numpy as np \n",
      "from time import time\n",
      "\n",
      "from sklearn import metrics, cluster\n",
      "pd.read_csv('data/lab3_header_lookups.csv')\n",
      "\n",
      "def benchmark_cluster(data):\n",
      "    for i in range(3,9):\n",
      "        clustering = cluster.KMeans(n_clusters=i)\n",
      "        clustering.fit(data)\n",
      "\n",
      "        silhouette = metrics.silhouette_score(data, clustering.labels_, sample_size=1000)\n",
      "        print \"s(%i) = %f\" % (i, silhouette)"
     ],
     "language": "python",
     "metadata": {},
     "outputs": [],
     "prompt_number": 84
    },
    {
     "cell_type": "code",
     "collapsed": false,
     "input": [
      "yelp_reviewers = pd.read_table('data/yelp_reviewers.txt', '|')\n",
      "yelp_reviewers.head()"
     ],
     "language": "python",
     "metadata": {},
     "outputs": [
      {
       "html": [
        "<div style=\"max-height:1000px;max-width:1500px;overflow:auto;\">\n",
        "<table border=\"1\" class=\"dataframe\">\n",
        "  <thead>\n",
        "    <tr style=\"text-align: right;\">\n",
        "      <th></th>\n",
        "      <th>user_id</th>\n",
        "      <th>q3</th>\n",
        "      <th>q4</th>\n",
        "      <th>q5</th>\n",
        "      <th>q6</th>\n",
        "      <th>q7</th>\n",
        "      <th>q8</th>\n",
        "      <th>q9</th>\n",
        "      <th>q10</th>\n",
        "      <th>q11</th>\n",
        "      <th>...</th>\n",
        "      <th>q18_group14</th>\n",
        "      <th>q18_group15</th>\n",
        "      <th>q18_group16_a</th>\n",
        "      <th>q18_group16_b</th>\n",
        "      <th>q18_group16_c</th>\n",
        "      <th>q18_group16_d</th>\n",
        "      <th>q18_group16_e</th>\n",
        "      <th>q18_group16_f</th>\n",
        "      <th>q18_group16_g</th>\n",
        "      <th>q18_group16_h</th>\n",
        "    </tr>\n",
        "  </thead>\n",
        "  <tbody>\n",
        "    <tr>\n",
        "      <th>0</th>\n",
        "      <td> --5hzxWLz5ozIg6OMo6tpQ</td>\n",
        "      <td>   1</td>\n",
        "      <td>   0</td>\n",
        "      <td>   0</td>\n",
        "      <td>   0</td>\n",
        "      <td> 0.000000</td>\n",
        "      <td>      NaN</td>\n",
        "      <td>      NaN</td>\n",
        "      <td>      NaN</td>\n",
        "      <td>       NaN</td>\n",
        "      <td>...</td>\n",
        "      <td> 36</td>\n",
        "      <td> 0.000000</td>\n",
        "      <td> NaN</td>\n",
        "      <td>        NaN</td>\n",
        "      <td>-100.000000</td>\n",
        "      <td>         inf</td>\n",
        "      <td>        NaN</td>\n",
        "      <td> NaN</td>\n",
        "      <td>NaN</td>\n",
        "      <td>NaN</td>\n",
        "    </tr>\n",
        "    <tr>\n",
        "      <th>1</th>\n",
        "      <td> --65q1FpAL_UQtVZ2PTGew</td>\n",
        "      <td> 112</td>\n",
        "      <td> 275</td>\n",
        "      <td> 193</td>\n",
        "      <td> 382</td>\n",
        "      <td> 4.718499</td>\n",
        "      <td> 5.616771</td>\n",
        "      <td> 5.262690</td>\n",
        "      <td> 5.945421</td>\n",
        "      <td> 32.352941</td>\n",
        "      <td>...</td>\n",
        "      <td> 87</td>\n",
        "      <td> 0.383929</td>\n",
        "      <td>-100</td>\n",
        "      <td> -75.000000</td>\n",
        "      <td> -68.800000</td>\n",
        "      <td> 1440.000000</td>\n",
        "      <td>        inf</td>\n",
        "      <td> NaN</td>\n",
        "      <td>NaN</td>\n",
        "      <td>NaN</td>\n",
        "    </tr>\n",
        "    <tr>\n",
        "      <th>2</th>\n",
        "      <td> --AqBuo717RyacADExYbSA</td>\n",
        "      <td>   1</td>\n",
        "      <td>   0</td>\n",
        "      <td>   0</td>\n",
        "      <td>   0</td>\n",
        "      <td> 0.000000</td>\n",
        "      <td>      NaN</td>\n",
        "      <td>      NaN</td>\n",
        "      <td>      NaN</td>\n",
        "      <td>       NaN</td>\n",
        "      <td>...</td>\n",
        "      <td> 23</td>\n",
        "      <td> 0.000000</td>\n",
        "      <td> NaN</td>\n",
        "      <td>-100.000000</td>\n",
        "      <td>        inf</td>\n",
        "      <td>         NaN</td>\n",
        "      <td>        NaN</td>\n",
        "      <td> NaN</td>\n",
        "      <td>NaN</td>\n",
        "      <td>NaN</td>\n",
        "    </tr>\n",
        "    <tr>\n",
        "      <th>3</th>\n",
        "      <td> --LzFD0UDbYE-Oho3AhsOg</td>\n",
        "      <td>   2</td>\n",
        "      <td>   0</td>\n",
        "      <td>   0</td>\n",
        "      <td>   2</td>\n",
        "      <td> 0.693147</td>\n",
        "      <td>      NaN</td>\n",
        "      <td>      NaN</td>\n",
        "      <td> 0.693147</td>\n",
        "      <td>  0.000000</td>\n",
        "      <td>...</td>\n",
        "      <td> 50</td>\n",
        "      <td> 0.000000</td>\n",
        "      <td>-100</td>\n",
        "      <td>        inf</td>\n",
        "      <td>        NaN</td>\n",
        "      <td>         NaN</td>\n",
        "      <td>        NaN</td>\n",
        "      <td> NaN</td>\n",
        "      <td>NaN</td>\n",
        "      <td>NaN</td>\n",
        "    </tr>\n",
        "    <tr>\n",
        "      <th>4</th>\n",
        "      <td> --M-cIkGnH1KhnLaCOmoPQ</td>\n",
        "      <td>   1</td>\n",
        "      <td>   2</td>\n",
        "      <td>   2</td>\n",
        "      <td>   2</td>\n",
        "      <td> 0.000000</td>\n",
        "      <td> 0.693147</td>\n",
        "      <td> 0.693147</td>\n",
        "      <td> 0.693147</td>\n",
        "      <td> 33.333333</td>\n",
        "      <td>...</td>\n",
        "      <td> 50</td>\n",
        "      <td> 1.000000</td>\n",
        "      <td> NaN</td>\n",
        "      <td>        NaN</td>\n",
        "      <td>        NaN</td>\n",
        "      <td>         NaN</td>\n",
        "      <td>-100.000000</td>\n",
        "      <td> inf</td>\n",
        "      <td>NaN</td>\n",
        "      <td>NaN</td>\n",
        "    </tr>\n",
        "  </tbody>\n",
        "</table>\n",
        "<p>5 rows \u00d7 41 columns</p>\n",
        "</div>"
       ],
       "metadata": {},
       "output_type": "pyout",
       "prompt_number": 81,
       "text": [
        "                  user_id   q3   q4   q5   q6        q7        q8        q9  \\\n",
        "0  --5hzxWLz5ozIg6OMo6tpQ    1    0    0    0  0.000000       NaN       NaN   \n",
        "1  --65q1FpAL_UQtVZ2PTGew  112  275  193  382  4.718499  5.616771  5.262690   \n",
        "2  --AqBuo717RyacADExYbSA    1    0    0    0  0.000000       NaN       NaN   \n",
        "3  --LzFD0UDbYE-Oho3AhsOg    2    0    0    2  0.693147       NaN       NaN   \n",
        "4  --M-cIkGnH1KhnLaCOmoPQ    1    2    2    2  0.000000  0.693147  0.693147   \n",
        "\n",
        "        q10        q11      ...        q18_group14  q18_group15  \\\n",
        "0       NaN        NaN      ...                 36     0.000000   \n",
        "1  5.945421  32.352941      ...                 87     0.383929   \n",
        "2       NaN        NaN      ...                 23     0.000000   \n",
        "3  0.693147   0.000000      ...                 50     0.000000   \n",
        "4  0.693147  33.333333      ...                 50     1.000000   \n",
        "\n",
        "   q18_group16_a  q18_group16_b  q18_group16_c  q18_group16_d  q18_group16_e  \\\n",
        "0            NaN            NaN    -100.000000            inf            NaN   \n",
        "1           -100     -75.000000     -68.800000    1440.000000            inf   \n",
        "2            NaN    -100.000000            inf            NaN            NaN   \n",
        "3           -100            inf            NaN            NaN            NaN   \n",
        "4            NaN            NaN            NaN            NaN    -100.000000   \n",
        "\n",
        "   q18_group16_f  q18_group16_g  q18_group16_h  \n",
        "0            NaN            NaN            NaN  \n",
        "1            NaN            NaN            NaN  \n",
        "2            NaN            NaN            NaN  \n",
        "3            NaN            NaN            NaN  \n",
        "4            inf            NaN            NaN  \n",
        "\n",
        "[5 rows x 41 columns]"
       ]
      }
     ],
     "prompt_number": 81
    },
    {
     "cell_type": "heading",
     "level": 1,
     "metadata": {},
     "source": [
      "Question 2"
     ]
    },
    {
     "cell_type": "code",
     "collapsed": false,
     "input": [
      "data = yelp_reviewers[['q4','q5','q6']]\n",
      "benchmark_cluster(data.values)"
     ],
     "language": "python",
     "metadata": {},
     "outputs": [
      {
       "output_type": "stream",
       "stream": "stdout",
       "text": [
        "s(3) = 0.988576\n",
        "s(4) = 0.970459"
       ]
      },
      {
       "output_type": "stream",
       "stream": "stdout",
       "text": [
        "\n",
        "s(5) = 0.960806"
       ]
      },
      {
       "output_type": "stream",
       "stream": "stdout",
       "text": [
        "\n",
        "s(6) = 0.962808"
       ]
      },
      {
       "output_type": "stream",
       "stream": "stdout",
       "text": [
        "\n",
        "s(7) = 0.925483"
       ]
      },
      {
       "output_type": "stream",
       "stream": "stdout",
       "text": [
        "\n",
        "s(8) = 0.928733"
       ]
      },
      {
       "output_type": "stream",
       "stream": "stdout",
       "text": [
        "\n"
       ]
      }
     ],
     "prompt_number": 82
    },
    {
     "cell_type": "heading",
     "level": 1,
     "metadata": {},
     "source": [
      "Question 3"
     ]
    },
    {
     "cell_type": "code",
     "collapsed": false,
     "input": [
      "data = yelp_reviewers[['q8','q9','q10']]\n",
      "data = data[ (np.isnan(data['q8']) == False) & (np.isnan(data['q9']) == False) & (np.isnan(data['q10']) == False)]\n",
      "benchmark_cluster(data.values)"
     ],
     "language": "python",
     "metadata": {},
     "outputs": [
      {
       "output_type": "stream",
       "stream": "stdout",
       "text": [
        "s(3) = 0.441787\n",
        "s(4) = 0.412536"
       ]
      },
      {
       "output_type": "stream",
       "stream": "stdout",
       "text": [
        "\n",
        "s(5) = 0.381073"
       ]
      },
      {
       "output_type": "stream",
       "stream": "stdout",
       "text": [
        "\n",
        "s(6) = 0.310406"
       ]
      },
      {
       "output_type": "stream",
       "stream": "stdout",
       "text": [
        "\n",
        "s(7) = 0.348757"
       ]
      },
      {
       "output_type": "stream",
       "stream": "stdout",
       "text": [
        "\n",
        "s(8) = 0.349951"
       ]
      },
      {
       "output_type": "stream",
       "stream": "stdout",
       "text": [
        "\n"
       ]
      }
     ],
     "prompt_number": 83
    },
    {
     "cell_type": "code",
     "collapsed": false,
     "input": [],
     "language": "python",
     "metadata": {},
     "outputs": [],
     "prompt_number": 83
    },
    {
     "cell_type": "code",
     "collapsed": false,
     "input": [],
     "language": "python",
     "metadata": {},
     "outputs": []
    }
   ],
   "metadata": {}
  }
 ]
}